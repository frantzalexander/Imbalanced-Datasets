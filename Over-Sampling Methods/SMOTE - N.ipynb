{
 "cells": [
  {
   "cell_type": "markdown",
   "metadata": {},
   "source": [
    "# SMOTE - N Analysis"
   ]
  },
  {
   "cell_type": "markdown",
   "metadata": {},
   "source": [
    "<blockquote>\n",
    "\n",
    "- First, we will calculate the difference between values and observations using the Value Difference Metric.\n",
    "\n",
    "- Second, we will implement SMOTE-N with imbalanced learn.</blockquote>"
   ]
  },
  {
   "cell_type": "markdown",
   "metadata": {},
   "source": [
    "## Libraries"
   ]
  },
  {
   "cell_type": "code",
   "execution_count": 1,
   "metadata": {},
   "outputs": [],
   "source": [
    "import numpy as np\n",
    "import pandas as pd\n",
    "import matplotlib.pyplot as plt\n",
    "import seaborn as sns\n",
    "\n",
    "from sklearn.datasets import make_blobs\n",
    "from sklearn.preprocessing import OrdinalEncoder\n",
    "\n",
    "from imblearn.metrics.pairwise import ValueDifferenceMetric\n",
    "from imblearn.over_sampling import SMOTEN"
   ]
  },
  {
   "cell_type": "markdown",
   "metadata": {},
   "source": [
    "---"
   ]
  },
  {
   "cell_type": "markdown",
   "metadata": {},
   "source": [
    "## Distance between values"
   ]
  },
  {
   "cell_type": "code",
   "execution_count": 2,
   "metadata": {},
   "outputs": [
    {
     "data": {
      "text/plain": [
       "[array([[0.9, 0.1],\n",
       "        [0.2, 0.8],\n",
       "        [0.3, 0.7]])]"
      ]
     },
     "execution_count": 2,
     "metadata": {},
     "output_type": "execute_result"
    }
   ],
   "source": [
    "# create a dataset with 1 feature\n",
    "\n",
    "X = np.array([\"green\"] * 10 + [\"red\"] * 10 + [\"blue\"] * 10).reshape(-1,1)\n",
    "y = [1] * 8 + [0] * 5 + [1] * 7 + [0] * 9 + [1]\n",
    "\n",
    "# the function \"ValueDifferenceMetric\" works\n",
    "# only with encoded variables, so we need to transform\n",
    "# the strings into numbers first\n",
    "\n",
    "encoder = OrdinalEncoder(dtype=np.int32)\n",
    "X_enc = encoder.fit_transform(X)\n",
    "\n",
    "# Now, we can learn the distances\n",
    "# I put r=1 so we have the same results that I showed\n",
    "# previously in the slides, for comparison\n",
    "\n",
    "vdm = ValueDifferenceMetric(r = 1).fit(X_enc, y)\n",
    "\n",
    "# the conditional probabilities of a value given the\n",
    "# class are stored for each value\n",
    "\n",
    "vdm.proba_per_class_"
   ]
  },
  {
   "cell_type": "code",
   "execution_count": 3,
   "metadata": {},
   "outputs": [
    {
     "data": {
      "text/plain": [
       "[array(['blue', 'green', 'red'], dtype='<U5')]"
      ]
     },
     "execution_count": 3,
     "metadata": {},
     "output_type": "execute_result"
    }
   ],
   "source": [
    "# The classes are stored in the categories_ attribute of the encoder\n",
    "\n",
    "encoder.categories_"
   ]
  },
  {
   "cell_type": "code",
   "execution_count": null,
   "metadata": {},
   "outputs": [],
   "source": []
  }
 ],
 "metadata": {
  "kernelspec": {
   "display_name": "data_analysis",
   "language": "python",
   "name": "python3"
  },
  "language_info": {
   "codemirror_mode": {
    "name": "ipython",
    "version": 3
   },
   "file_extension": ".py",
   "mimetype": "text/x-python",
   "name": "python",
   "nbconvert_exporter": "python",
   "pygments_lexer": "ipython3",
   "version": "3.12.1"
  }
 },
 "nbformat": 4,
 "nbformat_minor": 2
}
